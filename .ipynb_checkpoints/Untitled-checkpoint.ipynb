{
 "cells": [
  {
   "cell_type": "markdown",
   "id": "12ff521a",
   "metadata": {},
   "source": [
    "# Import Library"
   ]
  },
  {
   "cell_type": "code",
   "execution_count": 26,
   "id": "f6b3f860",
   "metadata": {},
   "outputs": [],
   "source": [
    "import re, math, random\n",
    "import matplotlib.pyplot as plt\n",
    "import matplotlib\n",
    "import numpy as np\n",
    "import pandas as pd\n",
    "import imageio\n",
    "import glob\n",
    "from IPython.core.interactiveshell import InteractiveShell\n",
    "InteractiveShell.ast_node_interactivity = \"all\""
   ]
  },
  {
   "cell_type": "markdown",
   "id": "1ed07eb0",
   "metadata": {},
   "source": [
    "# Data Create"
   ]
  },
  {
   "cell_type": "code",
   "execution_count": 27,
   "id": "8b444cc4",
   "metadata": {
    "scrolled": true
   },
   "outputs": [
    {
     "data": {
      "text/plain": [
       "[(0, 0),\n",
       " (1, 28),\n",
       " (2, -27),\n",
       " (3, 46),\n",
       " (4, -41),\n",
       " (5, 61),\n",
       " (6, -54),\n",
       " (7, 91),\n",
       " (8, -8),\n",
       " (9, 64),\n",
       " (10, -55),\n",
       " (11, 45),\n",
       " (12, -36),\n",
       " (13, 22),\n",
       " (14, -17),\n",
       " (15, 42),\n",
       " (16, -52),\n",
       " (17, 30),\n",
       " (18, -94),\n",
       " (19, 37),\n",
       " (20, -5),\n",
       " (21, 38),\n",
       " (22, -50),\n",
       " (23, 59),\n",
       " (24, -9),\n",
       " (25, 90),\n",
       " (26, -59),\n",
       " (27, 84),\n",
       " (28, -51),\n",
       " (29, 90),\n",
       " (30, -70),\n",
       " (31, 47),\n",
       " (32, -84),\n",
       " (33, 1),\n",
       " (34, -32),\n",
       " (35, 24),\n",
       " (36, -99),\n",
       " (37, 14),\n",
       " (38, -89),\n",
       " (39, 70),\n",
       " (40, -81),\n",
       " (41, 86),\n",
       " (42, -31),\n",
       " (43, 15),\n",
       " (44, -23),\n",
       " (45, 26),\n",
       " (46, -72),\n",
       " (47, 17),\n",
       " (48, -21),\n",
       " (49, 67),\n",
       " (50, -41),\n",
       " (51, 91),\n",
       " (52, -48),\n",
       " (53, 34),\n",
       " (54, -37),\n",
       " (55, 79),\n",
       " (56, -24),\n",
       " (57, 5),\n",
       " (58, -6),\n",
       " (59, 80),\n",
       " (60, -3),\n",
       " (61, 1),\n",
       " (62, -96),\n",
       " (63, 90),\n",
       " (64, -79),\n",
       " (65, 4),\n",
       " (66, -26),\n",
       " (67, 9),\n",
       " (68, -48),\n",
       " (69, 27),\n",
       " (70, -29),\n",
       " (71, 55),\n",
       " (72, -49),\n",
       " (73, 20),\n",
       " (74, -87),\n",
       " (75, 78),\n",
       " (76, -92),\n",
       " (77, 77),\n",
       " (78, -14),\n",
       " (79, 64),\n",
       " (80, -99),\n",
       " (81, 74),\n",
       " (82, -43),\n",
       " (83, 14),\n",
       " (84, -98),\n",
       " (85, 70),\n",
       " (86, -84),\n",
       " (87, 17),\n",
       " (88, -82),\n",
       " (89, 12),\n",
       " (90, -30),\n",
       " (91, 74),\n",
       " (92, -7),\n",
       " (93, 76),\n",
       " (94, -40),\n",
       " (95, 45),\n",
       " (96, -10),\n",
       " (97, 48),\n",
       " (98, -29),\n",
       " (99, 67)]"
      ]
     },
     "execution_count": 27,
     "metadata": {},
     "output_type": "execute_result"
    }
   ],
   "source": [
    "# Data that repeats positive, negative, positive, and negative are randomly generated.\n",
    "\n",
    "N = 100 # Number of data\n",
    "\n",
    "data_size = 100 # the maximum amplitude of a brain wave\n",
    "\n",
    "x = [i for i in range(N)]\n",
    "y = [0]\n",
    "\n",
    "for i in range(1, N):\n",
    "    n = random.randrange(0, data_size)\n",
    "    if i%2:\n",
    "        y.append(n)\n",
    "    else:\n",
    "        y.append(-n)\n",
    "\n",
    "data = list(zip(x, y))\n",
    "data"
   ]
  },
  {
   "cell_type": "markdown",
   "id": "d6784444",
   "metadata": {},
   "source": [
    "# Data Show"
   ]
  },
  {
   "cell_type": "code",
   "execution_count": 28,
   "id": "df8ef33d",
   "metadata": {},
   "outputs": [
    {
     "data": {
      "text/plain": [
       "[<matplotlib.lines.Line2D at 0x25d24529ee0>]"
      ]
     },
     "execution_count": 28,
     "metadata": {},
     "output_type": "execute_result"
    },
    {
     "data": {
      "image/png": "[encoded data removed]",
      "text/plain": [
       "<Figure size 432x288 with 1 Axes>"
      ]
     },
     "metadata": {
      "needs_background": "light"
     },
     "output_type": "display_data"
    }
   ],
   "source": [
    "plt.plot(y, \"b-\")\n",
    "plt.show()"
   ]
  },
  {
   "cell_type": "markdown",
   "id": "88b0202b",
   "metadata": {},
   "source": [
    "# Data Preprocessing"
   ]
  },
  {
   "cell_type": "code",
   "execution_count": 36,
   "id": "cd1144c7",
   "metadata": {},
   "outputs": [],
   "source": [
    "max_data = max(y)\n",
    "min_data = min(y)\n",
    "\n",
    "rgb_lst = list()\n",
    "\n",
    "for y_data in y:\n",
    "    if y_data > 0:\n",
    "        r = 255\n",
    "        g = 0\n",
    "        b = int(255 - 255*(y_data/max_data))\n",
    "        rgb_lst.append((r, g, b))\n",
    "    else:\n",
    "        r = int(255 - 255*(y_data/min_data))\n",
    "        g = 0\n",
    "        b = 255\n",
    "        rgb_lst.append((r, g, b))"
   ]
  },
  {
   "cell_type": "markdown",
   "id": "9323165e",
   "metadata": {},
   "source": [
    "# Data Visualization"
   ]
  },
  {
   "cell_type": "code",
   "execution_count": 37,
   "id": "e8395b04",
   "metadata": {},
   "outputs": [
    {
     "data": {
      "text/plain": [
       "<matplotlib.image.AxesImage at 0x25d24470160>"
      ]
     },
     "execution_count": 37,
     "metadata": {},
     "output_type": "execute_result"
    },
    {
     "data": {
      "text/plain": [
       "(-0.5, 99.5, 0.5, -0.5)"
      ]
     },
     "execution_count": 37,
     "metadata": {},
     "output_type": "execute_result"
    },
    {
     "data": {
      "image/png": "[encoded data removed]",
      "text/plain": [
       "<Figure size 432x288 with 1 Axes>"
      ]
     },
     "metadata": {
      "needs_background": "light"
     },
     "output_type": "display_data"
    }
   ],
   "source": [
    "one_px = np.array(rgb_lst)[np.newaxis, :, :]\n",
    "\n",
    "plt.imshow(np.array(one_px))\n",
    "plt.axis('off')\n",
    "plt.show()"
   ]
  }
 ],
 "metadata": {
  "kernelspec": {
   "display_name": "Python 3 (ipykernel)",
   "language": "python",
   "name": "python3"
  },
  "language_info": {
   "codemirror_mode": {
    "name": "ipython",
    "version": 3
   },
   "file_extension": ".py",
   "mimetype": "text/x-python",
   "name": "python",
   "nbconvert_exporter": "python",
   "pygments_lexer": "ipython3",
   "version": "3.9.12"
  }
 },
 "nbformat": 4,
 "nbformat_minor": 5
}
