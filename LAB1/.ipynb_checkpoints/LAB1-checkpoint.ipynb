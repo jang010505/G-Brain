{
 "cells": [
  {
   "cell_type": "markdown",
   "id": "69d91745",
   "metadata": {},
   "source": [
    "# Import Library"
   ]
  },
  {
   "cell_type": "code",
   "execution_count": 15,
   "id": "0504f058",
   "metadata": {},
   "outputs": [],
   "source": [
    "import re, math, random\n",
    "import matplotlib.pyplot as plt\n",
    "import matplotlib\n",
    "import numpy as np\n",
    "import pandas as pd\n",
    "import imageio\n",
    "import glob\n",
    "from IPython.core.interactiveshell import InteractiveShell\n",
    "InteractiveShell.ast_node_interactivity = \"all\""
   ]
  },
  {
   "cell_type": "markdown",
   "id": "dccb8701",
   "metadata": {},
   "source": [
    "# Data Create"
   ]
  },
  {
   "cell_type": "code",
   "execution_count": 16,
   "id": "b1f526e2",
   "metadata": {
    "scrolled": true
   },
   "outputs": [],
   "source": [
    "# Data that repeats positive, negative, positive, and negative are randomly generated.\n",
    "\n",
    "N = 100 # Number of data\n",
    "\n",
    "data_size = 100 # the maximum amplitude of a brain wave\n",
    "\n",
    "y = [0]\n",
    "y = np.array(y)\n",
    "interval = 10\n",
    "\n",
    "for i in range(1, N):\n",
    "    n = random.randrange(0, data_size)\n",
    "    if i%2:\n",
    "        y = np.concatenate((y, np.linspace(y[-1], n, interval)[1:]))\n",
    "    else:\n",
    "        y = np.concatenate((y, np.linspace(y[-1], -n, interval)[1:]))"
   ]
  },
  {
   "cell_type": "markdown",
   "id": "1ebbb650",
   "metadata": {},
   "source": [
    "# Data Show"
   ]
  },
  {
   "cell_type": "code",
   "execution_count": 17,
   "id": "55443dc6",
   "metadata": {},
   "outputs": [
    {
     "data": {
      "text/plain": [
       "[<matplotlib.lines.Line2D at 0x23b3dff4a00>]"
      ]
     },
     "execution_count": 17,
     "metadata": {},
     "output_type": "execute_result"
    },
    {
     "data": {
      "image/png": "[encoded data removed]",
      "text/plain": [
       "<Figure size 432x288 with 1 Axes>"
      ]
     },
     "metadata": {
      "needs_background": "light"
     },
     "output_type": "display_data"
    }
   ],
   "source": [
    "plt.plot(y, \"b-\")\n",
    "plt.savefig('./result/graph.png')"
   ]
  },
  {
   "cell_type": "markdown",
   "id": "676086c1",
   "metadata": {},
   "source": [
    "# Data Preprocessing"
   ]
  },
  {
   "cell_type": "code",
   "execution_count": 18,
   "id": "6b047986",
   "metadata": {},
   "outputs": [],
   "source": [
    "max_data = max(y)\n",
    "min_data = min(y)\n",
    "\n",
    "rgb_lst = [[]]\n",
    "\n",
    "for y_data in y:\n",
    "    if y_data > 0:\n",
    "        r = 255\n",
    "        g = 0\n",
    "        b = int(255 - 255*(y_data/max_data))\n",
    "        rgb_lst[0].append([r, g, b])\n",
    "    else:\n",
    "        r = int(255 - 255*(y_data/min_data))\n",
    "        g = 0\n",
    "        b = 255\n",
    "        rgb_lst[0].append([r, g, b])\n",
    "\n",
    "rgb_lst = np.array(rgb_lst)   \n"
   ]
  },
  {
   "cell_type": "markdown",
   "id": "ce926424",
   "metadata": {},
   "source": [
    "# Data Visualization"
   ]
  },
  {
   "cell_type": "code",
   "execution_count": 19,
   "id": "63e27bbf",
   "metadata": {},
   "outputs": [
    {
     "data": {
      "text/plain": [
       "<matplotlib.image.AxesImage at 0x23b3e04adc0>"
      ]
     },
     "execution_count": 19,
     "metadata": {},
     "output_type": "execute_result"
    },
    {
     "data": {
      "image/png": "[encoded data removed]",
      "text/plain": [
       "<Figure size 432x288 with 1 Axes>"
      ]
     },
     "metadata": {
      "needs_background": "light"
     },
     "output_type": "display_data"
    }
   ],
   "source": [
    "plt.imshow(rgb_lst, extent=[0, N*interval, 0, N*interval/10])\n",
    "plt.savefig('./result/sorce.png')"
   ]
  }
 ],
 "metadata": {
  "kernelspec": {
   "display_name": "Python 3 (ipykernel)",
   "language": "python",
   "name": "python3"
  },
  "language_info": {
   "codemirror_mode": {
    "name": "ipython",
    "version": 3
   },
   "file_extension": ".py",
   "mimetype": "text/x-python",
   "name": "python",
   "nbconvert_exporter": "python",
   "pygments_lexer": "ipython3",
   "version": "3.9.12"
  }
 },
 "nbformat": 4,
 "nbformat_minor": 5
}
